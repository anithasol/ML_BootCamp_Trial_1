{
 "cells": [
  {
   "cell_type": "markdown",
   "id": "21f136c9-47ac-4782-bcf3-f015b3f6bb10",
   "metadata": {},
   "source": [
    "1. WAP to accept two numbers from the user and display their sum"
   ]
  },
  {
   "cell_type": "code",
   "execution_count": 3,
   "id": "4870c2ae-f7b2-413c-92ae-078f44918eb1",
   "metadata": {},
   "outputs": [
    {
     "name": "stdin",
     "output_type": "stream",
     "text": [
      "Enter the first number: 34\n",
      "Enter the second number: 45\n"
     ]
    },
    {
     "name": "stdout",
     "output_type": "stream",
     "text": [
      "The sum of the two numbers is 79\n"
     ]
    }
   ],
   "source": [
    "x=int(input(\"Enter the first number:\"))\n",
    "y=int(input(\"Enter the second number:\"))\n",
    "z=x+y\n",
    "print(\"The sum of the two numbers is\", z)\n",
    "      "
   ]
  },
  {
   "cell_type": "markdown",
   "id": "5fbd4461-f09c-414e-9f3d-3e099eaa16f5",
   "metadata": {},
   "source": [
    "2. WAP to accept radius of a Circle from the user and calculate area and circumference"
   ]
  },
  {
   "cell_type": "code",
   "execution_count": 4,
   "id": "33cc1777-2456-4b41-ab67-e6506859f720",
   "metadata": {},
   "outputs": [
    {
     "name": "stdin",
     "output_type": "stream",
     "text": [
      "Enter the radius of the circle: 5\n"
     ]
    },
    {
     "name": "stdout",
     "output_type": "stream",
     "text": [
      "The area of the circle is 78.53981633974483\n",
      "The circimference of the circle is 31.41592653589793\n"
     ]
    }
   ],
   "source": [
    "import math\n",
    "radius=int(input(\"Enter the radius of the circle:\"))\n",
    "area=math.pi * radius **2\n",
    "circumference=2 * math.pi * radius\n",
    "print(\"The area of the circle is\", area)\n",
    "print(\"The circimference of the circle is\", circumference)"
   ]
  },
  {
   "cell_type": "markdown",
   "id": "93865a71-b2cf-433c-a334-c6d09a06adea",
   "metadata": {},
   "source": [
    "3.WAP to accept roll number , grade and percentage as input from the user and display it back"
   ]
  },
  {
   "cell_type": "code",
   "execution_count": 6,
   "id": "3967b45c-6b63-43bc-aaca-0d108210e13b",
   "metadata": {},
   "outputs": [
    {
     "name": "stdin",
     "output_type": "stream",
     "text": [
      "Enter your roll number 567890\n",
      "Enter your grade 8.5\n",
      "Enter your percentage 89\n"
     ]
    },
    {
     "name": "stdout",
     "output_type": "stream",
     "text": [
      "Your roll number is 567890\n",
      "Your grade is 8.5\n",
      "Your percentage is 89\n"
     ]
    }
   ],
   "source": [
    "roll_num=input(\"Enter your roll number\")\n",
    "grade=input(\"Enter your grade\")\n",
    "percentage=input(\"Enter your percentage\")\n",
    "print(\"Your roll number is\", roll_num)\n",
    "print(\"Your grade is\", grade)\n",
    "print(\"Your percentage is\", percentage)"
   ]
  },
  {
   "cell_type": "markdown",
   "id": "85d7c98f-25d5-4782-99c1-f49fda805d43",
   "metadata": {},
   "source": [
    "4. Write a program that asks the user to enter his/her name and age. Print out a message , displaying the user’s name along with the year in which they will turn 100 years old"
   ]
  },
  {
   "cell_type": "code",
   "execution_count": 10,
   "id": "e039cde4-7ff4-4822-b8fb-37a1a725df01",
   "metadata": {},
   "outputs": [
    {
     "name": "stdin",
     "output_type": "stream",
     "text": [
      "Enter your name Anitha\n",
      "Enter your age 46\n"
     ]
    },
    {
     "name": "stdout",
     "output_type": "stream",
     "text": [
      "Anitha will turn 100 years old in 2076\n"
     ]
    }
   ],
   "source": [
    "name=input(\"Enter your name\")\n",
    "age=int(input(\"Enter your age\"))\n",
    "c=100-age\n",
    "d=2022+c\n",
    "print(name, \"will turn 100 years old in\", d)\n"
   ]
  },
  {
   "cell_type": "markdown",
   "id": "04536af5-37f7-41ef-b069-6a964d4a6732",
   "metadata": {},
   "source": [
    "5. Write a program that asks the user to input 2 integers and adds them . Accept both the numbers in a single line only"
   ]
  },
  {
   "cell_type": "code",
   "execution_count": 2,
   "id": "4ce9017d-ac61-4b0d-b05b-81de9173c349",
   "metadata": {},
   "outputs": [
    {
     "name": "stdin",
     "output_type": "stream",
     "text": [
      "Enter the first number: 45\n",
      "Enter the second number: 45\n"
     ]
    },
    {
     "name": "stdout",
     "output_type": "stream",
     "text": [
      "The sum of x and y is 90\n"
     ]
    }
   ],
   "source": [
    "x, y=int(input(\"Enter the first number:\")), int(input(\"Enter the second number:\"))\n",
    "z=x+y\n",
    "print(\"The sum of x and y is\", z)"
   ]
  },
  {
   "cell_type": "markdown",
   "id": "bfe56072-f2a5-4129-832c-90d96b71af8a",
   "metadata": {},
   "source": [
    "6. Write a Python program which accepts the user's first and last name and print them in reverse order with a space between them."
   ]
  },
  {
   "cell_type": "code",
   "execution_count": 4,
   "id": "7bf8e0f6-2d35-4d48-907c-ae9f9b2606d4",
   "metadata": {},
   "outputs": [
    {
     "name": "stdin",
     "output_type": "stream",
     "text": [
      "Type your first name: anitha\n",
      "Type your last name: solomon\n"
     ]
    },
    {
     "name": "stdout",
     "output_type": "stream",
     "text": [
      "anitha solomon\n",
      "nomolos ahtina\n"
     ]
    }
   ],
   "source": [
    "f_name=input(\"Type your first name:\")\n",
    "l_name=input(\"Type your last name:\")\n",
    "print(f_name, l_name)\n",
    "print(l_name[-1::-1], f_name[-1::-1])"
   ]
  }
 ],
 "metadata": {
  "kernelspec": {
   "display_name": "Python 3 (ipykernel)",
   "language": "python",
   "name": "python3"
  },
  "language_info": {
   "codemirror_mode": {
    "name": "ipython",
    "version": 3
   },
   "file_extension": ".py",
   "mimetype": "text/x-python",
   "name": "python",
   "nbconvert_exporter": "python",
   "pygments_lexer": "ipython3",
   "version": "3.10.6"
  }
 },
 "nbformat": 4,
 "nbformat_minor": 5
}
